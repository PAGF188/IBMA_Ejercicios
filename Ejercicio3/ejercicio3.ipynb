{
 "cells": [
  {
   "cell_type": "markdown",
   "metadata": {},
   "source": [
    "# IPBMA. Exercice 3.\n",
    "\n",
    "**Authors**: \n",
    "- Pablo García Fernández (pablo.garcia.fernandez2@rai.usc.es)\n",
    "- Javier Goya Pérez (javier.goya@rai.usc.es)\n",
    "- Sindy Rocío Mojica Gómez (sindyrocio.mojica@rai.usc.es)"
   ]
  },
  {
   "cell_type": "code",
   "execution_count": 45,
   "metadata": {},
   "outputs": [],
   "source": [
    "# Configuration\n",
    "import numpy as np\n",
    "import matplotlib.pyplot as plt\n",
    "%run ./funciones.py"
   ]
  },
  {
   "cell_type": "markdown",
   "metadata": {},
   "source": [
    "## Cube Phantom"
   ]
  },
  {
   "cell_type": "markdown",
   "metadata": {},
   "source": [
    "## Breast Phantom"
   ]
  },
  {
   "cell_type": "markdown",
   "metadata": {},
   "source": [
    "## Vascular Phantom"
   ]
  },
  {
   "cell_type": "code",
   "execution_count": 46,
   "metadata": {},
   "outputs": [],
   "source": [
    "size = 256    \n",
    "energy = 40   \n",
    "p = vascular_phantom(size, energy)"
   ]
  },
  {
   "cell_type": "markdown",
   "metadata": {},
   "source": [
    "Display phantom top slice (z=0) and center slice (z=size//2). **Must be the same**."
   ]
  },
  {
   "cell_type": "code",
   "execution_count": 58,
   "metadata": {},
   "outputs": [
    {
     "data": {
      "image/png": "[encoded data removed]",
      "text/plain": [
       "<Figure size 432x288 with 3 Axes>"
      ]
     },
     "metadata": {
      "needs_background": "light"
     },
     "output_type": "display_data"
    }
   ],
   "source": [
    "figure, axis = plt.subplots(1, 3)\n",
    "axis[0].imshow(p[:,:,0], cmap='gray')\n",
    "axis[0].set_title('Cut slide at z=0')\n",
    "axis[1].imshow(p[:,:,size//2], cmap='gray')\n",
    "axis[1].set_title('Cut slide at z=size//2')\n",
    "axis[2].imshow(p[:,size//2,size//2-25:size//2+25].T, cmap='gray')\n",
    "plt.show()"
   ]
  },
  {
   "cell_type": "markdown",
   "metadata": {},
   "source": [
    "Plot of pixel values across the phantom, from left to right at Y=size//2 and Z=size//2."
   ]
  },
  {
   "cell_type": "code",
   "execution_count": 52,
   "metadata": {},
   "outputs": [
    {
     "data": {
      "text/plain": [
       "[<matplotlib.lines.Line2D at 0x7ff423585910>]"
      ]
     },
     "execution_count": 52,
     "metadata": {},
     "output_type": "execute_result"
    },
    {
     "data": {
      "image/png": "[encoded data removed]",
      "text/plain": [
       "<Figure size 432x288 with 1 Axes>"
      ]
     },
     "metadata": {
      "needs_background": "light"
     },
     "output_type": "display_data"
    }
   ],
   "source": [
    "\n",
    "line = p[:,size//2,size//2]\n",
    "plt.plot(line)\n"
   ]
  }
 ],
 "metadata": {
  "interpreter": {
   "hash": "7fada6413d93966728e30a4cc43becd0ae36b566446ac9ec3688d85a4cbcd58f"
  },
  "kernelspec": {
   "display_name": "Python 3.9.7 64-bit ('fipa': conda)",
   "language": "python",
   "name": "python3"
  },
  "language_info": {
   "codemirror_mode": {
    "name": "ipython",
    "version": 3
   },
   "file_extension": ".py",
   "mimetype": "text/x-python",
   "name": "python",
   "nbconvert_exporter": "python",
   "pygments_lexer": "ipython3",
   "version": "3.9.7"
  },
  "orig_nbformat": 4
 },
 "nbformat": 4,
 "nbformat_minor": 2
}
